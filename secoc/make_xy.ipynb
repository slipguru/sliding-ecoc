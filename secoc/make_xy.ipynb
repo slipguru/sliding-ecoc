{
 "cells": [
  {
   "cell_type": "markdown",
   "metadata": {},
   "source": [
    "Trains a simple convnet on the MNIST dataset.\n",
    "Gets to 99.25% test accuracy after 12 epochs\n",
    "(there is still a lot of margin for parameter tuning).\n",
    "16 seconds per epoch on a GRID K520 GPU."
   ]
  },
  {
   "cell_type": "code",
   "execution_count": 1,
   "metadata": {},
   "outputs": [
    {
     "name": "stderr",
     "output_type": "stream",
     "text": [
      "Using TensorFlow backend.\n"
     ]
    }
   ],
   "source": [
    "from __future__ import print_function\n",
    "import keras\n",
    "from keras.callbacks import ModelCheckpoint, EarlyStopping\n",
    "from keras.datasets import mnist\n",
    "from keras.models import Sequential\n",
    "from keras.layers import Dense, Dropout, Flatten\n",
    "from keras.layers import Conv2D, MaxPooling2D\n",
    "from keras import backend as K"
   ]
  },
  {
   "cell_type": "code",
   "execution_count": 2,
   "metadata": {},
   "outputs": [
    {
     "name": "stdout",
     "output_type": "stream",
     "text": [
      "x_train shape: (60000, 28, 28, 1)\n",
      "60000 train samples\n",
      "10000 test samples\n"
     ]
    }
   ],
   "source": [
    "batch_size = 128\n",
    "num_classes = 10\n",
    "\n",
    "# input image dimensions\n",
    "img_rows, img_cols = 28, 28\n",
    "\n",
    "# the data, shuffled and split between train and test sets\n",
    "(x_train, y_train), (x_test, y_test) = mnist.load_data()\n",
    "\n",
    "if K.image_data_format() == 'channels_first':\n",
    "    x_train = x_train.reshape(x_train.shape[0], 1, img_rows, img_cols)\n",
    "    x_test = x_test.reshape(x_test.shape[0], 1, img_rows, img_cols)\n",
    "    input_shape = (1, img_rows, img_cols)\n",
    "else:\n",
    "    x_train = x_train.reshape(x_train.shape[0], img_rows, img_cols, 1)\n",
    "    x_test = x_test.reshape(x_test.shape[0], img_rows, img_cols, 1)\n",
    "    input_shape = (img_rows, img_cols, 1)\n",
    "\n",
    "x_train = x_train.astype('float32')\n",
    "x_test = x_test.astype('float32')\n",
    "x_train /= 255\n",
    "x_test /= 255\n",
    "print('x_train shape:', x_train.shape)\n",
    "print(x_train.shape[0], 'train samples')\n",
    "print(x_test.shape[0], 'test samples')\n",
    "\n",
    "# convert class vectors to binary class matrices\n",
    "y_train = keras.utils.to_categorical(y_train, num_classes)\n",
    "y_test = keras.utils.to_categorical(y_test, num_classes)"
   ]
  },
  {
   "cell_type": "code",
   "execution_count": null,
   "metadata": {},
   "outputs": [
    {
     "name": "stdout",
     "output_type": "stream",
     "text": [
      "_________________________________________________________________\n",
      "Layer (type)                 Output Shape              Param #   \n",
      "=================================================================\n",
      "conv2d_1 (Conv2D)            (None, 26, 26, 32)        320       \n",
      "_________________________________________________________________\n",
      "conv2d_2 (Conv2D)            (None, 24, 24, 64)        18496     \n",
      "_________________________________________________________________\n",
      "max_pooling2d_1 (MaxPooling2 (None, 12, 12, 64)        0         \n",
      "_________________________________________________________________\n",
      "dropout_1 (Dropout)          (None, 12, 12, 64)        0         \n",
      "_________________________________________________________________\n",
      "flatten_1 (Flatten)          (None, 9216)              0         \n",
      "_________________________________________________________________\n",
      "dense_1 (Dense)              (None, 128)               1179776   \n",
      "_________________________________________________________________\n",
      "dropout_2 (Dropout)          (None, 128)               0         \n",
      "_________________________________________________________________\n",
      "dense_2 (Dense)              (None, 10)                1290      \n",
      "=================================================================\n",
      "Total params: 1,199,882\n",
      "Trainable params: 1,199,882\n",
      "Non-trainable params: 0\n",
      "_________________________________________________________________\n"
     ]
    }
   ],
   "source": [
    "model = Sequential()\n",
    "model.add(Conv2D(32, kernel_size=(3, 3),\n",
    "                 activation='relu',\n",
    "                 input_shape=input_shape))\n",
    "model.add(Conv2D(64, (3, 3), activation='relu'))\n",
    "model.add(MaxPooling2D(pool_size=(2, 2)))\n",
    "model.add(Dropout(0.25))\n",
    "model.add(Flatten())\n",
    "model.add(Dense(128, activation='relu'))\n",
    "model.add(Dropout(0.5))\n",
    "model.add(Dense(num_classes, activation='softmax'))\n",
    "\n",
    "model.compile(loss=keras.losses.categorical_crossentropy,\n",
    "              optimizer=keras.optimizers.Adadelta(),\n",
    "              metrics=['accuracy'])\n",
    "\n",
    "model.summary()"
   ]
  },
  {
   "cell_type": "code",
   "execution_count": null,
   "metadata": {},
   "outputs": [
    {
     "name": "stdout",
     "output_type": "stream",
     "text": [
      "Train on 60000 samples, validate on 10000 samples\n",
      "Epoch 1/200\n",
      "59776/60000 [============================>.] - ETA: 0s - loss: 0.3320 - acc: 0.8988Epoch 00000: val_loss improved from inf to 0.07673, saving model to weights.h5\n",
      "60000/60000 [==============================] - 19s - loss: 0.3313 - acc: 0.8990 - val_loss: 0.0767 - val_acc: 0.9762\n",
      "Epoch 2/200\n",
      "59776/60000 [============================>.] - ETA: 0s - loss: 0.1137 - acc: 0.9661Epoch 00001: val_loss improved from 0.07673 to 0.05196, saving model to weights.h5\n",
      "60000/60000 [==============================] - 17s - loss: 0.1141 - acc: 0.9660 - val_loss: 0.0520 - val_acc: 0.9829\n",
      "Epoch 3/200\n",
      "59776/60000 [============================>.] - ETA: 0s - loss: 0.0868 - acc: 0.9741Epoch 00002: val_loss improved from 0.05196 to 0.04585, saving model to weights.h5\n",
      "60000/60000 [==============================] - 17s - loss: 0.0868 - acc: 0.9742 - val_loss: 0.0458 - val_acc: 0.9853\n",
      "Epoch 4/200\n",
      "59776/60000 [============================>.] - ETA: 0s - loss: 0.0736 - acc: 0.9782Epoch 00003: val_loss improved from 0.04585 to 0.03655, saving model to weights.h5\n",
      "60000/60000 [==============================] - 17s - loss: 0.0735 - acc: 0.9782 - val_loss: 0.0365 - val_acc: 0.9878\n",
      "Epoch 5/200\n",
      "59776/60000 [============================>.] - ETA: 0s - loss: 0.0632 - acc: 0.9809Epoch 00004: val_loss improved from 0.03655 to 0.03547, saving model to weights.h5\n",
      "60000/60000 [==============================] - 17s - loss: 0.0631 - acc: 0.9810 - val_loss: 0.0355 - val_acc: 0.9877\n",
      "Epoch 6/200\n",
      "59776/60000 [============================>.] - ETA: 0s - loss: 0.0570 - acc: 0.9831Epoch 00005: val_loss improved from 0.03547 to 0.03318, saving model to weights.h5\n",
      "60000/60000 [==============================] - 17s - loss: 0.0569 - acc: 0.9831 - val_loss: 0.0332 - val_acc: 0.9872\n",
      "Epoch 7/200\n",
      "59776/60000 [============================>.] - ETA: 0s - loss: 0.0523 - acc: 0.9844Epoch 00006: val_loss did not improve\n",
      "60000/60000 [==============================] - 17s - loss: 0.0523 - acc: 0.9844 - val_loss: 0.0344 - val_acc: 0.9889\n",
      "Epoch 8/200\n",
      "20736/60000 [=========>....................] - ETA: 11s - loss: 0.0446 - acc: 0.9862"
     ]
    }
   ],
   "source": [
    "epochs = 200\n",
    "\n",
    "callbacks = [EarlyStopping(monitor='val_loss', patience=10, verbose=1),\n",
    "             ModelCheckpoint(filepath='weights.h5', verbose=1, save_best_only=True)]\n",
    "\n",
    "model.fit(x_train, y_train,\n",
    "          batch_size=batch_size,\n",
    "          epochs=epochs,\n",
    "          verbose=1,\n",
    "          validation_data=(x_test, y_test),\n",
    "          callbacks=callbacks)\n",
    "\n",
    "model.save_weights('weights.h5')"
   ]
  },
  {
   "cell_type": "code",
   "execution_count": null,
   "metadata": {
    "collapsed": true
   },
   "outputs": [],
   "source": [
    "score = model.evaluate(x_test, y_test, verbose=0)\n",
    "print('Test loss:', score[0])\n",
    "print('Test accuracy:', score[1])"
   ]
  }
 ],
 "metadata": {
  "kernelspec": {
   "display_name": "Python 2",
   "language": "python",
   "name": "python2"
  },
  "language_info": {
   "codemirror_mode": {
    "name": "ipython",
    "version": 2
   },
   "file_extension": ".py",
   "mimetype": "text/x-python",
   "name": "python",
   "nbconvert_exporter": "python",
   "pygments_lexer": "ipython2",
   "version": "2.7.13"
  }
 },
 "nbformat": 4,
 "nbformat_minor": 2
}
